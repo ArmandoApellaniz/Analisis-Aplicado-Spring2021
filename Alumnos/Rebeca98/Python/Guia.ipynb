{
 "metadata": {
  "language_info": {
   "codemirror_mode": {
    "name": "ipython",
    "version": 3
   },
   "file_extension": ".py",
   "mimetype": "text/x-python",
   "name": "python",
   "nbconvert_exporter": "python",
   "pygments_lexer": "ipython3",
   "version": 3
  },
  "orig_nbformat": 2
 },
 "nbformat": 4,
 "nbformat_minor": 2,
 "cells": [
  {
   "source": [
    "# Método Quasi Newton\n",
    "\n",
    "supongamos que la dirección de búsqueda tiene la forma: $$  p_k = -B_k^{-1} \\nabla f_k  $$\n",
    "\n",
    "donde B_k es una matriz definida positiva que es creada en cada nueva iteración por la formula de actulización **Quasi-Newton**\n",
    "\n",
    "Las algortimos de búsqueda lineal siempre van a usar por primera vez $\\alpha = 1$ y acepta el valor si satisface las condiciones de Wolfe\n"
   ],
   "cell_type": "markdown",
   "metadata": {}
  },
  {
   "source": [
    "este reusltado muestra que si la búsqueda de la dirección en el método Quasi-Newton aproxima la dirección de Newton muy bien, por lo que el tamaño de paso satisface las condiciones de Wolfe mientras las iteraciones convergen a la solución. \n",
    "\n",
    "# Teorema\n",
    "Supongamos que $f:R^n \\to R$ es dos veces diferenciable. Considera la ieración $x_{k+1} = x_k + \\alpha_k p_k$ donde $p_k$ es una dirección de descenso y $alpha_k$ satisface las condiciones de Wolfe donde $c_1 \\leq 1/2$\n",
    "Si la sucesion $\\{ x_k \\}$  converge a un punto $x^*$ tal que $\\nabla f(x^*) = 0$ y $\\nabla^2f(x^*)$ es una matriz positiva definida y si la dirección de búsqueda satisface: \n",
    "$$  \\lim_{k \\to \\infty} \\frac{|| \\nabla f_k + \\nabla^2 f_k p_k||}{|| p_k ||} = 0 $$\n",
    "\n",
    "entonces \n",
    " i) el tamaño de paso $\\alpha_k = 1$ es admisible para toda $k$ más grande que un cierto indice $k_0$\n",
    " ii) si $ \\alpha_k = 1$ para toda $ k> k_0,   \\{x_k\\} $ converge a $x^*$ superlinealmente.  Si $p_k$ es una dirección de búsqueda quasi-Newton de la forma $$  p_k = -B_k^{-1} \\nabla f_k  $$ entonces $$  \\lim_{k \\to \\infty} \\frac{|| \\nabla f_k + \\nabla^2 f_k p_k||}{|| p_k ||} = 0 $$ es equivalente a $$  \\lim_{k \\to \\infty} \\frac{|| B_k - \\nabla^2 f(x^*) p_k||}{|| p_k ||} = 0 $$\n",
    "\n"
   ],
   "cell_type": "markdown",
   "metadata": {}
  },
  {
   "source": [
    "# Método de Newton con Modificacion en la Hessiana\n",
    "\n",
    "Lejos de la solución la Hessiana puede no ser definida positiva, por lo que la dirección de Newton $P_k^N$ es definida como $$ \\nabla ^2 f(x_k) p_k^N = -\\nabla f(x_k) $$\n",
    "\n",
    "La Hessiana modificada es obtenida añadiendiendo una matriz diagonal positiva o una ** matriz completa** a la Hessiana $ \\nabla^2 f(x_k)$"
   ],
   "cell_type": "markdown",
   "metadata": {}
  },
  {
   "source": [
    "<div> \n",
    "    imagen\n",
    "</div>"
   ],
   "cell_type": "markdown",
   "metadata": {}
  },
  {
   "source": [],
   "cell_type": "markdown",
   "metadata": {}
  }
 ]
}